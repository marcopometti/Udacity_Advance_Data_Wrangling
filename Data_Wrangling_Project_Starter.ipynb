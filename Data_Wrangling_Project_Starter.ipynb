{
 "cells": [
  {
   "cell_type": "markdown",
   "metadata": {
    "id": "GNIwe5N7s0e_"
   },
   "source": [
    "# Real-world Data Wrangling"
   ]
  },
  {
   "cell_type": "markdown",
   "metadata": {
    "id": "LbN7z7rcuqpO"
   },
   "source": [
    "### **1.1.** Problem Statement\n",
    "The primary goal of my analysis is to identify the three counties in Washington State with the highest number of electric vehicles. Once these counties are identified, my aim is to determine the top five car manufacturers present in these areas. The focus will then shift to understanding which of these manufacturers is the most prevalent in each of the three counties. This will allow me to gain a better understanding of the electric vehicle market distribution in these key regions. \n",
    "\n",
    "To achive my goal i used these two datasets provided by WS dataset:\n",
    "\n",
    "First dataset : Electric_Vehicle_Population_Size_History_By_County.csv,\" contain historical data of all type of vehicle. i focused on 2023 year.  We have information of the number of BEV vehicle, PLUG-IN vehicle and not electric car for each counties \n",
    "\n",
    "The second dataset:\n",
    "Electric_Vehicle_Population_Data provided using an API and download the json file provides detailed information about electric vehicles made by different car makers such as Tesla , Bmw ecc."
   ]
  },
  {
   "cell_type": "markdown",
   "metadata": {
    "id": "7e6gS0wL1KTu"
   },
   "source": [
    "#### **Dataset 1**\n",
    "\n",
    "The database show for each counties how the total vehicle in 2023 are diveded between different motorisation\n",
    "\n",
    "Type: CSV_FILE\n",
    "\n",
    "Method: Download data manually using a Csv file\n",
    "\n",
    "Dataset variables:\n",
    "\n",
    "*   *Variable 1 Counties\n",
    "*   *Variable 2 Electric Vehicle (EV) Total population in 2023\n",
    "*   *Variable 3 total vehicle in 2023"
   ]
  },
  {
   "cell_type": "code",
   "execution_count": 2,
   "metadata": {},
   "outputs": [],
   "source": [
    "import pandas as pd"
   ]
  },
  {
   "cell_type": "code",
   "execution_count": 3,
   "metadata": {},
   "outputs": [],
   "source": [
    "#import my raw data in csv file\n",
    "bev_car = pd.read_csv('Electric_Vehicle_Population_Size_History_By_County.csv')"
   ]
  },
  {
   "cell_type": "code",
   "execution_count": 4,
   "metadata": {},
   "outputs": [
    {
     "data": {
      "text/html": [
       "<div>\n",
       "<style scoped>\n",
       "    .dataframe tbody tr th:only-of-type {\n",
       "        vertical-align: middle;\n",
       "    }\n",
       "\n",
       "    .dataframe tbody tr th {\n",
       "        vertical-align: top;\n",
       "    }\n",
       "\n",
       "    .dataframe thead th {\n",
       "        text-align: right;\n",
       "    }\n",
       "</style>\n",
       "<table border=\"1\" class=\"dataframe\">\n",
       "  <thead>\n",
       "    <tr style=\"text-align: right;\">\n",
       "      <th></th>\n",
       "      <th>Date</th>\n",
       "      <th>County</th>\n",
       "      <th>State</th>\n",
       "      <th>Vehicle Primary Use</th>\n",
       "      <th>Battery Electric Vehicles (BEVs)</th>\n",
       "      <th>Plug-In Hybrid Electric Vehicles (PHEVs)</th>\n",
       "      <th>Electric Vehicle (EV) Total</th>\n",
       "      <th>Non-Electric Vehicle Total</th>\n",
       "      <th>Total Vehicles</th>\n",
       "      <th>Percent Electric Vehicles</th>\n",
       "    </tr>\n",
       "  </thead>\n",
       "  <tbody>\n",
       "    <tr>\n",
       "      <th>0</th>\n",
       "      <td>October 31 2019</td>\n",
       "      <td>Flathead</td>\n",
       "      <td>MT</td>\n",
       "      <td>Passenger</td>\n",
       "      <td>1</td>\n",
       "      <td>0</td>\n",
       "      <td>1</td>\n",
       "      <td>70</td>\n",
       "      <td>71</td>\n",
       "      <td>1.41</td>\n",
       "    </tr>\n",
       "    <tr>\n",
       "      <th>1</th>\n",
       "      <td>October 31 2019</td>\n",
       "      <td>New London</td>\n",
       "      <td>CT</td>\n",
       "      <td>Passenger</td>\n",
       "      <td>0</td>\n",
       "      <td>2</td>\n",
       "      <td>2</td>\n",
       "      <td>244</td>\n",
       "      <td>246</td>\n",
       "      <td>0.81</td>\n",
       "    </tr>\n",
       "    <tr>\n",
       "      <th>2</th>\n",
       "      <td>June 30 2019</td>\n",
       "      <td>Pend Oreille</td>\n",
       "      <td>WA</td>\n",
       "      <td>Truck</td>\n",
       "      <td>0</td>\n",
       "      <td>0</td>\n",
       "      <td>0</td>\n",
       "      <td>5730</td>\n",
       "      <td>5730</td>\n",
       "      <td>0.00</td>\n",
       "    </tr>\n",
       "    <tr>\n",
       "      <th>3</th>\n",
       "      <td>November 30 2019</td>\n",
       "      <td>Virginia Beach</td>\n",
       "      <td>VA</td>\n",
       "      <td>Passenger</td>\n",
       "      <td>1</td>\n",
       "      <td>0</td>\n",
       "      <td>1</td>\n",
       "      <td>706</td>\n",
       "      <td>707</td>\n",
       "      <td>0.14</td>\n",
       "    </tr>\n",
       "    <tr>\n",
       "      <th>4</th>\n",
       "      <td>February 28 2018</td>\n",
       "      <td>Sacramento</td>\n",
       "      <td>CA</td>\n",
       "      <td>Passenger</td>\n",
       "      <td>1</td>\n",
       "      <td>0</td>\n",
       "      <td>1</td>\n",
       "      <td>307</td>\n",
       "      <td>308</td>\n",
       "      <td>0.32</td>\n",
       "    </tr>\n",
       "  </tbody>\n",
       "</table>\n",
       "</div>"
      ],
      "text/plain": [
       "               Date          County State Vehicle Primary Use  \\\n",
       "0   October 31 2019        Flathead    MT           Passenger   \n",
       "1   October 31 2019      New London    CT           Passenger   \n",
       "2      June 30 2019    Pend Oreille    WA               Truck   \n",
       "3  November 30 2019  Virginia Beach    VA           Passenger   \n",
       "4  February 28 2018      Sacramento    CA           Passenger   \n",
       "\n",
       "   Battery Electric Vehicles (BEVs)  Plug-In Hybrid Electric Vehicles (PHEVs)  \\\n",
       "0                                 1                                         0   \n",
       "1                                 0                                         2   \n",
       "2                                 0                                         0   \n",
       "3                                 1                                         0   \n",
       "4                                 1                                         0   \n",
       "\n",
       "   Electric Vehicle (EV) Total  Non-Electric Vehicle Total  Total Vehicles  \\\n",
       "0                            1                          70              71   \n",
       "1                            2                         244             246   \n",
       "2                            0                        5730            5730   \n",
       "3                            1                         706             707   \n",
       "4                            1                         307             308   \n",
       "\n",
       "   Percent Electric Vehicles  \n",
       "0                       1.41  \n",
       "1                       0.81  \n",
       "2                       0.00  \n",
       "3                       0.14  \n",
       "4                       0.32  "
      ]
     },
     "execution_count": 4,
     "metadata": {},
     "output_type": "execute_result"
    }
   ],
   "source": [
    "bev_car.head()"
   ]
  },
  {
   "cell_type": "markdown",
   "metadata": {
    "id": "hoUjq1tPzz7P"
   },
   "source": [
    "#### Dataset 2\n",
    "\n",
    "This dataset shows the Battery Electric Vehicles (BEVs) and Plug-in Hybrid Electric Vehicles (PHEVs) that are currently registered through Washington State Department of Licensing (DOL).\n",
    "\n",
    "Type: Json File\n",
    "\n",
    "Method: The data was gathered using the \"API\" method from Data.wa.government\n",
    "\n",
    "Dataset variables:\n",
    "\n",
    "*   *Variable 1 County\n",
    "*   *Variable 2 Car Maker"
   ]
  },
  {
   "cell_type": "code",
   "execution_count": 12,
   "metadata": {
    "scrolled": true
   },
   "outputs": [
    {
     "data": {
      "text/html": [
       "<div>\n",
       "<style scoped>\n",
       "    .dataframe tbody tr th:only-of-type {\n",
       "        vertical-align: middle;\n",
       "    }\n",
       "\n",
       "    .dataframe tbody tr th {\n",
       "        vertical-align: top;\n",
       "    }\n",
       "\n",
       "    .dataframe thead th {\n",
       "        text-align: right;\n",
       "    }\n",
       "</style>\n",
       "<table border=\"1\" class=\"dataframe\">\n",
       "  <thead>\n",
       "    <tr style=\"text-align: right;\">\n",
       "      <th></th>\n",
       "      <th>VIN (1-10)</th>\n",
       "      <th>County</th>\n",
       "      <th>City</th>\n",
       "      <th>State</th>\n",
       "      <th>Postal Code</th>\n",
       "      <th>Model Year</th>\n",
       "      <th>Make</th>\n",
       "      <th>Model</th>\n",
       "      <th>Electric Vehicle Type</th>\n",
       "      <th>Clean Alternative Fuel Vehicle (CAFV) Eligibility</th>\n",
       "      <th>Electric Range</th>\n",
       "      <th>Base MSRP</th>\n",
       "      <th>Legislative District</th>\n",
       "      <th>DOL Vehicle ID</th>\n",
       "      <th>Vehicle Location</th>\n",
       "      <th>Electric Utility</th>\n",
       "      <th>2020 Census Tract</th>\n",
       "      <th>Counties</th>\n",
       "      <th>Congressional Districts</th>\n",
       "      <th>WAOFM - GIS - Legislative District Boundary</th>\n",
       "    </tr>\n",
       "  </thead>\n",
       "  <tbody>\n",
       "    <tr>\n",
       "      <th>162998</th>\n",
       "      <td>7SAYGAEE6P</td>\n",
       "      <td>Whatcom</td>\n",
       "      <td>Bellingham</td>\n",
       "      <td>WA</td>\n",
       "      <td>98225</td>\n",
       "      <td>2023</td>\n",
       "      <td>TESLA</td>\n",
       "      <td>MODEL Y</td>\n",
       "      <td>Battery Electric Vehicle (BEV)</td>\n",
       "      <td>Eligibility unknown as battery range has not b...</td>\n",
       "      <td>0</td>\n",
       "      <td>0</td>\n",
       "      <td>40</td>\n",
       "      <td>236252152</td>\n",
       "      <td>POINT (-122.486115 48.761615)</td>\n",
       "      <td>PUGET SOUND ENERGY INC||PUD NO 1 OF WHATCOM CO...</td>\n",
       "      <td>53073001203</td>\n",
       "      <td>2744</td>\n",
       "      <td>2</td>\n",
       "      <td>44</td>\n",
       "    </tr>\n",
       "    <tr>\n",
       "      <th>162999</th>\n",
       "      <td>7SAYGDEE4P</td>\n",
       "      <td>King</td>\n",
       "      <td>Vashon</td>\n",
       "      <td>WA</td>\n",
       "      <td>98070</td>\n",
       "      <td>2023</td>\n",
       "      <td>TESLA</td>\n",
       "      <td>MODEL Y</td>\n",
       "      <td>Battery Electric Vehicle (BEV)</td>\n",
       "      <td>Eligibility unknown as battery range has not b...</td>\n",
       "      <td>0</td>\n",
       "      <td>0</td>\n",
       "      <td>34</td>\n",
       "      <td>224470599</td>\n",
       "      <td>POINT (-122.46049 47.44873)</td>\n",
       "      <td>CITY OF TACOMA - (WA)</td>\n",
       "      <td>53033027702</td>\n",
       "      <td>3009</td>\n",
       "      <td>7</td>\n",
       "      <td>37</td>\n",
       "    </tr>\n",
       "    <tr>\n",
       "      <th>163000</th>\n",
       "      <td>7SAYGDEE0P</td>\n",
       "      <td>Snohomish</td>\n",
       "      <td>Bothell</td>\n",
       "      <td>WA</td>\n",
       "      <td>98021</td>\n",
       "      <td>2023</td>\n",
       "      <td>TESLA</td>\n",
       "      <td>MODEL Y</td>\n",
       "      <td>Battery Electric Vehicle (BEV)</td>\n",
       "      <td>Eligibility unknown as battery range has not b...</td>\n",
       "      <td>0</td>\n",
       "      <td>0</td>\n",
       "      <td>1</td>\n",
       "      <td>244676939</td>\n",
       "      <td>POINT (-122.179458 47.802589)</td>\n",
       "      <td>PUGET SOUND ENERGY INC</td>\n",
       "      <td>53061051937</td>\n",
       "      <td>3213</td>\n",
       "      <td>1</td>\n",
       "      <td>1</td>\n",
       "    </tr>\n",
       "    <tr>\n",
       "      <th>163001</th>\n",
       "      <td>JTDKARFP7H</td>\n",
       "      <td>Pierce</td>\n",
       "      <td>Spanaway</td>\n",
       "      <td>WA</td>\n",
       "      <td>98387</td>\n",
       "      <td>2017</td>\n",
       "      <td>TOYOTA</td>\n",
       "      <td>PRIUS PRIME</td>\n",
       "      <td>Plug-in Hybrid Electric Vehicle (PHEV)</td>\n",
       "      <td>Not eligible due to low battery range</td>\n",
       "      <td>25</td>\n",
       "      <td>0</td>\n",
       "      <td>2</td>\n",
       "      <td>276466165</td>\n",
       "      <td>POINT (-122.435115 47.1045)</td>\n",
       "      <td>BONNEVILLE POWER ADMINISTRATION||CITY OF TACOM...</td>\n",
       "      <td>53053073128</td>\n",
       "      <td>3210</td>\n",
       "      <td>10</td>\n",
       "      <td>35</td>\n",
       "    </tr>\n",
       "    <tr>\n",
       "      <th>163002</th>\n",
       "      <td>3FMTK3SU7N</td>\n",
       "      <td>Spokane</td>\n",
       "      <td>Spokane</td>\n",
       "      <td>WA</td>\n",
       "      <td>99203</td>\n",
       "      <td>2022</td>\n",
       "      <td>FORD</td>\n",
       "      <td>MUSTANG MACH-E</td>\n",
       "      <td>Battery Electric Vehicle (BEV)</td>\n",
       "      <td>Eligibility unknown as battery range has not b...</td>\n",
       "      <td>0</td>\n",
       "      <td>0</td>\n",
       "      <td>6</td>\n",
       "      <td>197399828</td>\n",
       "      <td>POINT (-117.425265 47.635365)</td>\n",
       "      <td>MODERN ELECTRIC WATER COMPANY</td>\n",
       "      <td>53063004702</td>\n",
       "      <td>3214</td>\n",
       "      <td>5</td>\n",
       "      <td>9</td>\n",
       "    </tr>\n",
       "  </tbody>\n",
       "</table>\n",
       "</div>"
      ],
      "text/plain": [
       "        VIN (1-10)     County        City State Postal Code Model Year  \\\n",
       "162998  7SAYGAEE6P    Whatcom  Bellingham    WA       98225       2023   \n",
       "162999  7SAYGDEE4P       King      Vashon    WA       98070       2023   \n",
       "163000  7SAYGDEE0P  Snohomish     Bothell    WA       98021       2023   \n",
       "163001  JTDKARFP7H     Pierce    Spanaway    WA       98387       2017   \n",
       "163002  3FMTK3SU7N    Spokane     Spokane    WA       99203       2022   \n",
       "\n",
       "          Make           Model                   Electric Vehicle Type  \\\n",
       "162998   TESLA         MODEL Y          Battery Electric Vehicle (BEV)   \n",
       "162999   TESLA         MODEL Y          Battery Electric Vehicle (BEV)   \n",
       "163000   TESLA         MODEL Y          Battery Electric Vehicle (BEV)   \n",
       "163001  TOYOTA     PRIUS PRIME  Plug-in Hybrid Electric Vehicle (PHEV)   \n",
       "163002    FORD  MUSTANG MACH-E          Battery Electric Vehicle (BEV)   \n",
       "\n",
       "        Clean Alternative Fuel Vehicle (CAFV) Eligibility Electric Range  \\\n",
       "162998  Eligibility unknown as battery range has not b...              0   \n",
       "162999  Eligibility unknown as battery range has not b...              0   \n",
       "163000  Eligibility unknown as battery range has not b...              0   \n",
       "163001              Not eligible due to low battery range             25   \n",
       "163002  Eligibility unknown as battery range has not b...              0   \n",
       "\n",
       "       Base MSRP Legislative District DOL Vehicle ID  \\\n",
       "162998         0                   40      236252152   \n",
       "162999         0                   34      224470599   \n",
       "163000         0                    1      244676939   \n",
       "163001         0                    2      276466165   \n",
       "163002         0                    6      197399828   \n",
       "\n",
       "                     Vehicle Location  \\\n",
       "162998  POINT (-122.486115 48.761615)   \n",
       "162999    POINT (-122.46049 47.44873)   \n",
       "163000  POINT (-122.179458 47.802589)   \n",
       "163001    POINT (-122.435115 47.1045)   \n",
       "163002  POINT (-117.425265 47.635365)   \n",
       "\n",
       "                                         Electric Utility 2020 Census Tract  \\\n",
       "162998  PUGET SOUND ENERGY INC||PUD NO 1 OF WHATCOM CO...       53073001203   \n",
       "162999                              CITY OF TACOMA - (WA)       53033027702   \n",
       "163000                             PUGET SOUND ENERGY INC       53061051937   \n",
       "163001  BONNEVILLE POWER ADMINISTRATION||CITY OF TACOM...       53053073128   \n",
       "163002                      MODERN ELECTRIC WATER COMPANY       53063004702   \n",
       "\n",
       "       Counties Congressional Districts  \\\n",
       "162998     2744                       2   \n",
       "162999     3009                       7   \n",
       "163000     3213                       1   \n",
       "163001     3210                      10   \n",
       "163002     3214                       5   \n",
       "\n",
       "       WAOFM - GIS - Legislative District Boundary  \n",
       "162998                                          44  \n",
       "162999                                          37  \n",
       "163000                                           1  \n",
       "163001                                          35  \n",
       "163002                                           9  "
      ]
     },
     "execution_count": 12,
     "metadata": {},
     "output_type": "execute_result"
    }
   ],
   "source": [
    "#import file using an api directly to WS state dataplatform\n",
    "\n",
    "import pandas as pd\n",
    "import requests\n",
    "\n",
    "url_dati = \"https://data.wa.gov/api/views/f6w7-q2d2/rows.json?accessType=DOWNLOAD\"\n",
    "response_data = requests.get(url_dati)\n",
    "dati = response_data.json()['data']\n",
    "\n",
    "url_colonne = \"https://data.wa.gov/api/views/f6w7-q2d2/columns.json\"\n",
    "response_data = requests.get(url_colonne)\n",
    "dati_json = response_data.json()\n",
    "colonne = [col['name'] for col in dati_json]\n",
    "\n",
    "lista_finale = []\n",
    "\n",
    "for i in dati:\n",
    "    lista_finale.append(i[8:])\n",
    "\n",
    "db = pd.DataFrame(lista_finale, columns= colonne)\n",
    "\n",
    "bev_county = db[db['State'] == 'WA']\n",
    "\n",
    "bev_county.tail()"
   ]
  },
  {
   "cell_type": "markdown",
   "metadata": {
    "id": "QwSWIVmotLgV"
   },
   "source": [
    "## 2. Assess data\n",
    "\n",
    "Assess the data according to data quality and tidiness metrics using the report below.\n",
    "\n",
    "List **two** data quality issues and **two** tidiness issues. Assess each data issue visually **and** programmatically, then briefly describe the issue you find.  **Make sure you include justifications for the methods you use for the assessment.**"
   ]
  },
  {
   "cell_type": "markdown",
   "metadata": {
    "id": "adaK2iPNzVu4"
   },
   "source": [
    "### Quality Issue 1:"
   ]
  },
  {
   "cell_type": "code",
   "execution_count": null,
   "metadata": {
    "id": "-qfcocStzsKg",
    "scrolled": true
   },
   "outputs": [],
   "source": [
    "#show visually the first rows of the db\n",
    "bev_car.head()"
   ]
  },
  {
   "cell_type": "code",
   "execution_count": null,
   "metadata": {
    "scrolled": true
   },
   "outputs": [],
   "source": [
    "#Get the general info of the columns\n",
    "print(bev_car.info())\n",
    "#get the elementar statistic for each columns\n",
    "print(bev_car.describe())\n",
    "#understand how many null value are there\n",
    "print(bev_car.isnull().sum())\n",
    "#understand if there are some duplicates values\n",
    "print(bev_car.duplicated().sum())"
   ]
  },
  {
   "cell_type": "markdown",
   "metadata": {},
   "source": [
    "Data Quality Issue: Date columns is not in data time format, so we need to convert it"
   ]
  },
  {
   "cell_type": "markdown",
   "metadata": {
    "id": "8Be77N4I1AmE"
   },
   "source": [
    "### Quality Issue 2:"
   ]
  },
  {
   "cell_type": "code",
   "execution_count": null,
   "metadata": {
    "id": "iMhHyiyLM2I3"
   },
   "outputs": [],
   "source": [
    "#show visually the first rows of the db\n",
    "bev_county.head()"
   ]
  },
  {
   "cell_type": "code",
   "execution_count": null,
   "metadata": {
    "id": "bnviRCUI-bb7"
   },
   "outputs": [],
   "source": [
    "#Get the general info of the columns\n",
    "print(bev_county.info())\n",
    "#get the elementar statistic for each columns\n",
    "print(bev_county.describe())\n",
    "#understand how many null value are there\n",
    "print(bev_county.isnull().sum())\n",
    "#understand if there are some duplicates values\n",
    "print(bev_county.duplicated().sum())"
   ]
  },
  {
   "cell_type": "markdown",
   "metadata": {},
   "source": [
    "Data Quality Issue: Missing Values\n",
    "Issue Description: The 'Counties' columns have 641 missing values . This is a data quality issue because incomplete data can affect the accuracy of analyses and conclusions.\n",
    "Assessment Justification: The identification of missing values was performed using programmatic methods such as df.isnull().sum(), which provides a direct count of missing values in each column. This method ensures an accurate and comprehensive identification of null values across the dataset."
   ]
  },
  {
   "cell_type": "markdown",
   "metadata": {
    "id": "lXhGiYyiwwKN"
   },
   "source": [
    "### Tidiness Issue 1:"
   ]
  },
  {
   "cell_type": "code",
   "execution_count": 17,
   "metadata": {
    "id": "fleC5rORI0Xl",
    "scrolled": true
   },
   "outputs": [
    {
     "data": {
      "text/plain": [
       "POINT (-122.12302 47.67668)        4171\n",
       "POINT (-122.1873 47.820245)        3024\n",
       "POINT (-122.20264 47.6785)         2779\n",
       "POINT (-122.201905 47.61385)       2605\n",
       "POINT (-122.16937 47.571015)       2603\n",
       "POINT (-122.3185 47.67949)         2513\n",
       "POINT (-122.0313266 47.6285782)    2290\n",
       "POINT (-122.29179 47.43473)        2261\n",
       "POINT (-122.151665 47.75855)       2238\n",
       "POINT (-122.2377542 47.582905)     2199\n",
       "Name: Vehicle Location, dtype: int64"
      ]
     },
     "execution_count": 17,
     "metadata": {},
     "output_type": "execute_result"
    }
   ],
   "source": [
    "#First tidy issue -- Multiple Variables Stored in One Column:\n",
    "bev_county['Vehicle Location'].value_counts().head(10)"
   ]
  },
  {
   "cell_type": "code",
   "execution_count": 22,
   "metadata": {
    "id": "BTuQw7Rbsio4"
   },
   "outputs": [
    {
     "data": {
      "text/plain": [
       "['VIN (1-10)',\n",
       " 'Postal Code',\n",
       " 'Model Year',\n",
       " 'Electric Vehicle Type',\n",
       " 'Clean Alternative Fuel Vehicle (CAFV) Eligibility',\n",
       " 'Electric Range',\n",
       " 'Base MSRP',\n",
       " 'Legislative District',\n",
       " 'DOL Vehicle ID',\n",
       " 'Vehicle Location',\n",
       " 'Electric Utility',\n",
       " '2020 Census Tract',\n",
       " 'Congressional Districts',\n",
       " 'WAOFM - GIS - Legislative District Boundary']"
      ]
     },
     "execution_count": 22,
     "metadata": {},
     "output_type": "execute_result"
    }
   ],
   "source": [
    "# Checking if there are columns that could be split into multiple columns\n",
    "potential_columns_to_split = [col for col in bev_county.columns if ' ' in col]\n",
    "\n",
    "potential_columns_to_split"
   ]
  },
  {
   "cell_type": "markdown",
   "metadata": {},
   "source": [
    "Issue and justification: \n",
    "\n",
    "Issue : The \"Vehicle Location\" column combines the latitude and longitude coordinates into a single field, making it more difficult to perform tasks such as sorting, filtering, or applying functions that require these to be separate variables. In other word we have two values inside the same variable Vehicle location \n",
    "\n",
    "Justification: Separating the latitude and longitude into two distinct columns simplifies many types of analyses and operations, such as calculating distances, mapping,"
   ]
  },
  {
   "cell_type": "markdown",
   "metadata": {
    "id": "4ffMoRGSwzYj"
   },
   "source": [
    "### Tidiness Issue 2: "
   ]
  },
  {
   "cell_type": "code",
   "execution_count": 9,
   "metadata": {
    "id": "XUpeoqokw5Qt"
   },
   "outputs": [
    {
     "data": {
      "text/html": [
       "<div>\n",
       "<style scoped>\n",
       "    .dataframe tbody tr th:only-of-type {\n",
       "        vertical-align: middle;\n",
       "    }\n",
       "\n",
       "    .dataframe tbody tr th {\n",
       "        vertical-align: top;\n",
       "    }\n",
       "\n",
       "    .dataframe thead th {\n",
       "        text-align: right;\n",
       "    }\n",
       "</style>\n",
       "<table border=\"1\" class=\"dataframe\">\n",
       "  <thead>\n",
       "    <tr style=\"text-align: right;\">\n",
       "      <th></th>\n",
       "      <th>County</th>\n",
       "      <th>Make</th>\n",
       "    </tr>\n",
       "  </thead>\n",
       "  <tbody>\n",
       "    <tr>\n",
       "      <th>0</th>\n",
       "      <td>Thurston</td>\n",
       "      <td>TESLA</td>\n",
       "    </tr>\n",
       "    <tr>\n",
       "      <th>1</th>\n",
       "      <td>King</td>\n",
       "      <td>NISSAN</td>\n",
       "    </tr>\n",
       "    <tr>\n",
       "      <th>2</th>\n",
       "      <td>King</td>\n",
       "      <td>TESLA</td>\n",
       "    </tr>\n",
       "    <tr>\n",
       "      <th>3</th>\n",
       "      <td>Kitsap</td>\n",
       "      <td>HONDA</td>\n",
       "    </tr>\n",
       "    <tr>\n",
       "      <th>4</th>\n",
       "      <td>Thurston</td>\n",
       "      <td>AUDI</td>\n",
       "    </tr>\n",
       "    <tr>\n",
       "      <th>5</th>\n",
       "      <td>Thurston</td>\n",
       "      <td>FORD</td>\n",
       "    </tr>\n",
       "    <tr>\n",
       "      <th>6</th>\n",
       "      <td>King</td>\n",
       "      <td>AUDI</td>\n",
       "    </tr>\n",
       "    <tr>\n",
       "      <th>7</th>\n",
       "      <td>Thurston</td>\n",
       "      <td>NISSAN</td>\n",
       "    </tr>\n",
       "    <tr>\n",
       "      <th>8</th>\n",
       "      <td>Kitsap</td>\n",
       "      <td>TESLA</td>\n",
       "    </tr>\n",
       "    <tr>\n",
       "      <th>9</th>\n",
       "      <td>Snohomish</td>\n",
       "      <td>TESLA</td>\n",
       "    </tr>\n",
       "  </tbody>\n",
       "</table>\n",
       "</div>"
      ],
      "text/plain": [
       "      County    Make\n",
       "0   Thurston   TESLA\n",
       "1       King  NISSAN\n",
       "2       King   TESLA\n",
       "3     Kitsap   HONDA\n",
       "4   Thurston    AUDI\n",
       "5   Thurston    FORD\n",
       "6       King    AUDI\n",
       "7   Thurston  NISSAN\n",
       "8     Kitsap   TESLA\n",
       "9  Snohomish   TESLA"
      ]
     },
     "execution_count": 9,
     "metadata": {},
     "output_type": "execute_result"
    }
   ],
   "source": [
    "#Second tidy issue -- Each Observation Forms a Row\n",
    "bev_county[['County','Make']].head(10)"
   ]
  },
  {
   "cell_type": "code",
   "execution_count": 16,
   "metadata": {
    "id": "c8JK4DoXxtFA"
   },
   "outputs": [
    {
     "data": {
      "text/plain": [
       "39"
      ]
     },
     "execution_count": 16,
     "metadata": {},
     "output_type": "execute_result"
    }
   ],
   "source": [
    "# Checking the number of unique values in Make Columns\n",
    "bev_county['Make'].nunique()"
   ]
  },
  {
   "cell_type": "markdown",
   "metadata": {},
   "source": [
    "Issue and justification: \n",
    "\n",
    "Issue: the problem is that we are facing the tidy issue where one variable (Make columns) contains differen values. The issue is that we have a differnt row for each car maker observation , in other word the variable \"Make\" contains different types of values/information \n",
    "\n",
    "Justification: With 39 different car makers, analyzing trends or patterns specific to each maker becomes more complex and will be very challenging to understand which are the most widespreaded manufactures."
   ]
  },
  {
   "cell_type": "markdown",
   "metadata": {
    "id": "D6gmLnBttpCh"
   },
   "source": [
    "## 3. Clean data\n",
    "Clean the data to solve the 4 issues corresponding to data quality and tidiness found in the assessing step. **Make sure you include justifications for your cleaning decisions.**\n",
    "\n",
    "After the cleaning for each issue, please use **either** the visually or programatical method to validate the cleaning was succesful.\n",
    "\n",
    "At this stage, you are also expected to remove variables that are unnecessary for your analysis and combine your datasets. Depending on your datasets, you may choose to perform variable combination and elimination before or after the cleaning stage. Your dataset must have **at least** 4 variables after combining the data."
   ]
  },
  {
   "cell_type": "code",
   "execution_count": null,
   "metadata": {},
   "outputs": [],
   "source": [
    "#create a copy of the  raw db\n",
    "bev_car_final = bev_car.copy()\n",
    "bev_county_final = bev_county.copy()"
   ]
  },
  {
   "cell_type": "markdown",
   "metadata": {
    "id": "FmFhN52Yyn3l"
   },
   "source": [
    "### **Quality Issue 1: FILL IN**"
   ]
  },
  {
   "cell_type": "code",
   "execution_count": null,
   "metadata": {
    "id": "9UejDWrNMW4a"
   },
   "outputs": [],
   "source": [
    "# FILL IN - Apply the cleaning strategy\n",
    "# Assuming the 'Date' column in the merged_ev_data_washington DataFrame needs to be split\n",
    "# First, ensure the 'Date' column is in datetime format\n",
    "bev_car_final['Date'] = pd.to_datetime(bev_car_final['Date'])\n",
    "# Splitting the 'Date' column into year\n",
    "bev_car_final['Year'] = bev_car_final['Date'].dt.year"
   ]
  },
  {
   "cell_type": "code",
   "execution_count": null,
   "metadata": {
    "id": "oUBee-LPytkv"
   },
   "outputs": [],
   "source": [
    "#see if the columns has been modified\n",
    "bev_car_final.info()"
   ]
  },
  {
   "cell_type": "markdown",
   "metadata": {},
   "source": [
    "Justification: Date columns is not in data time format and i need the year for my analysis. In this way i will be able to get only the year and filter the dataset"
   ]
  },
  {
   "cell_type": "markdown",
   "metadata": {
    "id": "n_DAUbJrymBL"
   },
   "source": [
    "### **Quality Issue 2: FILL IN**"
   ]
  },
  {
   "cell_type": "code",
   "execution_count": null,
   "metadata": {
    "id": "5Yfb-Yu5MTuE",
    "scrolled": true
   },
   "outputs": [],
   "source": [
    "#drop all the null rows\n",
    "bev_car_final.dropna(inplace=True)"
   ]
  },
  {
   "cell_type": "code",
   "execution_count": null,
   "metadata": {
    "id": "ionB2sRaMUmY"
   },
   "outputs": [],
   "source": [
    "#check if the script was succesfull\n",
    "bev_car_final.isnull().sum()"
   ]
  },
  {
   "cell_type": "markdown",
   "metadata": {},
   "source": [
    "Justification: we decided to drop all the rows without values because they can cause a miscalculation for the next analysis"
   ]
  },
  {
   "cell_type": "markdown",
   "metadata": {
    "id": "bIUrrfSNyOPR"
   },
   "source": [
    "### **Tidiness Issue 1: FILL IN**"
   ]
  },
  {
   "cell_type": "code",
   "execution_count": null,
   "metadata": {
    "id": "fib0zAm333bn"
   },
   "outputs": [],
   "source": [
    "#using regex to extract the data from the columns Vehichle location\n",
    "bev_county_final['longitudine'], bev_county_final['latidudine'] = zip(*bev_county_final['Vehicle Location'].str.extract(r'POINT \\(([^ ]+) ([^ ]+)\\)').values)                                                    "
   ]
  },
  {
   "cell_type": "code",
   "execution_count": null,
   "metadata": {
    "id": "yhrnUGY_Nk8B"
   },
   "outputs": [],
   "source": [
    "#check if the columns longitudine e latiduine have been created\n",
    "bev_county_final[['Vehicle Location','longitudine','latidudine']].head(10)"
   ]
  },
  {
   "cell_type": "markdown",
   "metadata": {},
   "source": [
    "Justification: The result of zip(*df['location'].str.extract(r'POINT \\(([^ ]+) ([^ ]+)\\)').values) is a series of tuples, where each tuple contains the longitude and latitude of a row from the original DataFrame. These tuples are then assigned to the new columns 'longitude' and 'latitude' in the DataFrame."
   ]
  },
  {
   "cell_type": "markdown",
   "metadata": {
    "id": "o51Bt8kwyTzk"
   },
   "source": [
    "### **Tidiness Issue 2: FILL IN**"
   ]
  },
  {
   "cell_type": "code",
   "execution_count": null,
   "metadata": {
    "id": "7zW8O5yx4Y9O"
   },
   "outputs": [],
   "source": [
    "#groupby county e make to get for each car maker how many vehicle are in each county\n",
    "final = bev_county_final.groupby(['County','Make'])['Model'].count().reset_index()\n",
    "\n",
    "#filter the dataset by the top four car makert\n",
    "ev_auto = final[final['Make'].isin(['TESLA', 'NISSAN', 'CHEVROLET', 'FORD', 'BMW'])]\n",
    "\n",
    "#create a pivot table to fix the second tidiness issue. For my analysis i need to have the car maker in columns\n",
    "ev_db = pd.pivot_table(ev_auto, index='County', columns='Make', aggfunc='sum', fill_value=0).reset_index(drop = False)\n",
    "\n",
    "# Falttering multiindex\n",
    "ev_db.columns = ['_'.join(col).strip() if isinstance(col, tuple) else col for col in ev_db.columns.values]\n",
    "\n",
    "# Rename columns\n",
    "ev_db.columns = ['County','BMW','CHEVROLET','FORD','NISSAN','TESLA']"
   ]
  },
  {
   "cell_type": "code",
   "execution_count": null,
   "metadata": {},
   "outputs": [],
   "source": [
    "#verify the few rows of the db_subset\n",
    "ev_db.head()"
   ]
  },
  {
   "cell_type": "markdown",
   "metadata": {},
   "source": [
    "Justification: i dediced to use  a pivot table to fix my second tidenss issue ( based on the aim of my analysis). After i got the pivot table i had to use the process of converting a MultiIndex (or hierarchical index) in a pandas DataFrame to a flat list of column. The process  is called \"flattening the MultiIndex.\" This process involves transforming the multi-level column names into a simpler, single-level format."
   ]
  },
  {
   "cell_type": "markdown",
   "metadata": {},
   "source": [
    "### **Remove unnecessary variables and combine datasets**\n",
    "\n",
    "Depending on the datasets, you can also peform the combination before the cleaning steps."
   ]
  },
  {
   "cell_type": "code",
   "execution_count": null,
   "metadata": {},
   "outputs": [],
   "source": [
    "#filter dataset\n",
    "\n",
    "occ_data_final = bev_car_final[(bev_car_final['State'] == 'WA') & (bev_car_final['Year'] == 2023)]\n",
    "\n",
    "#final datase 1 that contain for each county the total electric vehicle registered in Washington state\n",
    "dataset_1 = occ_data_final.groupby('County')[['Electric Vehicle (EV) Total','Total Vehicles']].sum().reset_index()\n",
    "\n",
    "#create new columns, % of bev vehicle on total vehicle\n",
    "dataset_1['%_BEV_Vehicle'] = round(dataset_1['Electric Vehicle (EV) Total']/dataset_1['Total Vehicles'],2)\n",
    "\n",
    "#final dataset 2 that contain for each WS county the number of electric vehicle for the top 4 car maker in Wa\n",
    "dataset_2 = ev_db\n",
    "\n",
    "#merge dataset_1 , dataset_2 on County using left merged\n",
    "\n",
    "final_database = pd.merge(dataset_1,dataset_2, on= 'County', how = 'left')\n",
    "\n",
    "#final db\n",
    "\n",
    "final_database"
   ]
  },
  {
   "cell_type": "markdown",
   "metadata": {
    "id": "F42urHuzttjF"
   },
   "source": [
    "## 4. Update your data store\n",
    "Update your local database/data store with the cleaned data, following best practices for storing your cleaned data:\n",
    "\n",
    "- Must maintain different instances / versions of data (raw and cleaned data)\n",
    "- Must name the dataset files informatively\n",
    "- Ensure both the raw and cleaned data is saved to your database/data store"
   ]
  },
  {
   "cell_type": "code",
   "execution_count": 36,
   "metadata": {
    "id": "V3uay7EJUV_L"
   },
   "outputs": [],
   "source": [
    "#save my final database in a csv file and store it in my working space\n",
    "final_database.to_csv('BEV_Vehicles_cleaned_data.csv')"
   ]
  },
  {
   "cell_type": "code",
   "execution_count": 37,
   "metadata": {},
   "outputs": [
    {
     "name": "stdout",
     "output_type": "stream",
     "text": [
      "<class 'pandas.core.frame.DataFrame'>\n",
      "RangeIndex: 39 entries, 0 to 38\n",
      "Data columns (total 10 columns):\n",
      " #   Column                       Non-Null Count  Dtype  \n",
      "---  ------                       --------------  -----  \n",
      " 0   Unnamed: 0                   39 non-null     int64  \n",
      " 1   County                       39 non-null     object \n",
      " 2   Electric Vehicle (EV) Total  39 non-null     int64  \n",
      " 3   Total Vehicles               39 non-null     int64  \n",
      " 4   %_BEV_Vehicle                39 non-null     float64\n",
      " 5   BMW                          39 non-null     int64  \n",
      " 6   CHEVROLET                    39 non-null     int64  \n",
      " 7   FORD                         39 non-null     int64  \n",
      " 8   NISSAN                       39 non-null     int64  \n",
      " 9   TESLA                        39 non-null     int64  \n",
      "dtypes: float64(1), int64(8), object(1)\n",
      "memory usage: 3.2+ KB\n"
     ]
    }
   ],
   "source": [
    "#check if everything is ok\n",
    "cleaned_db = pd.read_csv('BEV_Vehicles_cleaned_data.csv')\n",
    "cleaned_db.info()"
   ]
  },
  {
   "cell_type": "markdown",
   "metadata": {
    "id": "cGy_yddGtzhM"
   },
   "source": [
    "## 5. Answer the research question\n",
    "\n",
    "### **5.1:** Define and answer the research question \n",
    "Going back to the problem statement in step 1, use the cleaned data to answer the question you raised. Produce **at least** two visualizations using the cleaned data and explain how they help you answer the question."
   ]
  },
  {
   "cell_type": "markdown",
   "metadata": {
    "id": "gjedE4s4ZkEd"
   },
   "source": [
    "*Research question: Which are the main counties with the highest % of BEV vehicle ? "
   ]
  },
  {
   "cell_type": "code",
   "execution_count": 38,
   "metadata": {},
   "outputs": [
    {
     "data": {
      "text/html": [
       "<div>\n",
       "<style scoped>\n",
       "    .dataframe tbody tr th:only-of-type {\n",
       "        vertical-align: middle;\n",
       "    }\n",
       "\n",
       "    .dataframe tbody tr th {\n",
       "        vertical-align: top;\n",
       "    }\n",
       "\n",
       "    .dataframe thead th {\n",
       "        text-align: right;\n",
       "    }\n",
       "</style>\n",
       "<table border=\"1\" class=\"dataframe\">\n",
       "  <thead>\n",
       "    <tr style=\"text-align: right;\">\n",
       "      <th></th>\n",
       "      <th>Unnamed: 0</th>\n",
       "      <th>County</th>\n",
       "      <th>Electric Vehicle (EV) Total</th>\n",
       "      <th>Total Vehicles</th>\n",
       "      <th>%_BEV_Vehicle</th>\n",
       "      <th>BMW</th>\n",
       "      <th>CHEVROLET</th>\n",
       "      <th>FORD</th>\n",
       "      <th>NISSAN</th>\n",
       "      <th>TESLA</th>\n",
       "    </tr>\n",
       "  </thead>\n",
       "  <tbody>\n",
       "    <tr>\n",
       "      <th>16</th>\n",
       "      <td>16</td>\n",
       "      <td>King</td>\n",
       "      <td>805035</td>\n",
       "      <td>17209351</td>\n",
       "      <td>0.05</td>\n",
       "      <td>4140</td>\n",
       "      <td>5294</td>\n",
       "      <td>3137</td>\n",
       "      <td>6657</td>\n",
       "      <td>41735</td>\n",
       "    </tr>\n",
       "    <tr>\n",
       "      <th>30</th>\n",
       "      <td>30</td>\n",
       "      <td>Snohomish</td>\n",
       "      <td>176787</td>\n",
       "      <td>7277858</td>\n",
       "      <td>0.02</td>\n",
       "      <td>694</td>\n",
       "      <td>1202</td>\n",
       "      <td>1025</td>\n",
       "      <td>1599</td>\n",
       "      <td>9916</td>\n",
       "    </tr>\n",
       "    <tr>\n",
       "      <th>26</th>\n",
       "      <td>26</td>\n",
       "      <td>Pierce</td>\n",
       "      <td>117034</td>\n",
       "      <td>7418234</td>\n",
       "      <td>0.02</td>\n",
       "      <td>541</td>\n",
       "      <td>1053</td>\n",
       "      <td>899</td>\n",
       "      <td>1010</td>\n",
       "      <td>5267</td>\n",
       "    </tr>\n",
       "    <tr>\n",
       "      <th>5</th>\n",
       "      <td>5</td>\n",
       "      <td>Clark</td>\n",
       "      <td>91623</td>\n",
       "      <td>4411331</td>\n",
       "      <td>0.02</td>\n",
       "      <td>384</td>\n",
       "      <td>817</td>\n",
       "      <td>561</td>\n",
       "      <td>808</td>\n",
       "      <td>3925</td>\n",
       "    </tr>\n",
       "    <tr>\n",
       "      <th>17</th>\n",
       "      <td>17</td>\n",
       "      <td>Kitsap</td>\n",
       "      <td>50949</td>\n",
       "      <td>2550158</td>\n",
       "      <td>0.02</td>\n",
       "      <td>227</td>\n",
       "      <td>551</td>\n",
       "      <td>329</td>\n",
       "      <td>628</td>\n",
       "      <td>1778</td>\n",
       "    </tr>\n",
       "  </tbody>\n",
       "</table>\n",
       "</div>"
      ],
      "text/plain": [
       "    Unnamed: 0     County  Electric Vehicle (EV) Total  Total Vehicles  \\\n",
       "16          16       King                       805035        17209351   \n",
       "30          30  Snohomish                       176787         7277858   \n",
       "26          26     Pierce                       117034         7418234   \n",
       "5            5      Clark                        91623         4411331   \n",
       "17          17     Kitsap                        50949         2550158   \n",
       "\n",
       "    %_BEV_Vehicle   BMW  CHEVROLET  FORD  NISSAN  TESLA  \n",
       "16           0.05  4140       5294  3137    6657  41735  \n",
       "30           0.02   694       1202  1025    1599   9916  \n",
       "26           0.02   541       1053   899    1010   5267  \n",
       "5            0.02   384        817   561     808   3925  \n",
       "17           0.02   227        551   329     628   1778  "
      ]
     },
     "execution_count": 38,
     "metadata": {},
     "output_type": "execute_result"
    }
   ],
   "source": [
    "#understand and sorting the cleaned db to understand which counties have the highest number of BEV vehicle\n",
    "cleaned_db.sort_values(by = 'Electric Vehicle (EV) Total', ascending= False).head()"
   ]
  },
  {
   "cell_type": "code",
   "execution_count": 39,
   "metadata": {
    "id": "Lkw3rW9kZmOm",
    "scrolled": true
   },
   "outputs": [
    {
     "data": {
      "text/plain": [
       "<AxesSubplot: xlabel='County'>"
      ]
     },
     "execution_count": 39,
     "metadata": {},
     "output_type": "execute_result"
    },
    {
     "data": {
      "image/png": "[encoded data removed]",
      "text/plain": [
       "<Figure size 640x480 with 1 Axes>"
      ]
     },
     "metadata": {},
     "output_type": "display_data"
    }
   ],
   "source": [
    "#create a bar plot\n",
    "cleaned_db[['County','%_BEV_Vehicle']].sort_values(by= '%_BEV_Vehicle',ascending = False).plot(kind = 'bar', x = 'County')"
   ]
  },
  {
   "cell_type": "markdown",
   "metadata": {},
   "source": [
    "The county with the highest % of BEV (Battery Electric Vehicles) is King County, followed by San Juan and Island This makes sense because Seattle, the largest city in Washington State, is located in King County."
   ]
  },
  {
   "cell_type": "markdown",
   "metadata": {},
   "source": [
    "*Research question: Which car makers are the most widespread in the top three countries in terms of BEV (Battery Electric Vehicle) adoption?\""
   ]
  },
  {
   "cell_type": "code",
   "execution_count": 40,
   "metadata": {
    "id": "6fdK_8ZGZm9R",
    "scrolled": true
   },
   "outputs": [
    {
     "name": "stderr",
     "output_type": "stream",
     "text": [
      "/tmp/ipykernel_15/3357227735.py:2: SettingWithCopyWarning: \n",
      "A value is trying to be set on a copy of a slice from a DataFrame.\n",
      "Try using .loc[row_indexer,col_indexer] = value instead\n",
      "\n",
      "See the caveats in the documentation: https://pandas.pydata.org/pandas-docs/stable/user_guide/indexing.html#returning-a-view-versus-a-copy\n",
      "  cleanend_db_anlysis['TESLA_%'] = round(cleanend_db_anlysis['TESLA']/cleanend_db_anlysis['Electric Vehicle (EV) Total'],2)\n",
      "/tmp/ipykernel_15/3357227735.py:3: SettingWithCopyWarning: \n",
      "A value is trying to be set on a copy of a slice from a DataFrame.\n",
      "Try using .loc[row_indexer,col_indexer] = value instead\n",
      "\n",
      "See the caveats in the documentation: https://pandas.pydata.org/pandas-docs/stable/user_guide/indexing.html#returning-a-view-versus-a-copy\n",
      "  cleanend_db_anlysis['BMW_%'] = round(cleanend_db_anlysis['BMW']/cleanend_db_anlysis['Electric Vehicle (EV) Total'],2)\n",
      "/tmp/ipykernel_15/3357227735.py:4: SettingWithCopyWarning: \n",
      "A value is trying to be set on a copy of a slice from a DataFrame.\n",
      "Try using .loc[row_indexer,col_indexer] = value instead\n",
      "\n",
      "See the caveats in the documentation: https://pandas.pydata.org/pandas-docs/stable/user_guide/indexing.html#returning-a-view-versus-a-copy\n",
      "  cleanend_db_anlysis['CHEVROLET_%'] = round(cleanend_db_anlysis['CHEVROLET']/cleanend_db_anlysis['Electric Vehicle (EV) Total'],2)\n",
      "/tmp/ipykernel_15/3357227735.py:5: SettingWithCopyWarning: \n",
      "A value is trying to be set on a copy of a slice from a DataFrame.\n",
      "Try using .loc[row_indexer,col_indexer] = value instead\n",
      "\n",
      "See the caveats in the documentation: https://pandas.pydata.org/pandas-docs/stable/user_guide/indexing.html#returning-a-view-versus-a-copy\n",
      "  cleanend_db_anlysis['FORD_%'] = round(cleanend_db_anlysis['FORD']/cleanend_db_anlysis['Electric Vehicle (EV) Total'],2)\n",
      "/tmp/ipykernel_15/3357227735.py:6: SettingWithCopyWarning: \n",
      "A value is trying to be set on a copy of a slice from a DataFrame.\n",
      "Try using .loc[row_indexer,col_indexer] = value instead\n",
      "\n",
      "See the caveats in the documentation: https://pandas.pydata.org/pandas-docs/stable/user_guide/indexing.html#returning-a-view-versus-a-copy\n",
      "  cleanend_db_anlysis['NISSAN_%'] = round(cleanend_db_anlysis['NISSAN']/cleanend_db_anlysis['Electric Vehicle (EV) Total'],2)\n"
     ]
    }
   ],
   "source": [
    "#create columns needed for my second analysis\n",
    "\n",
    "cleanend_db_anlysis = cleaned_db[cleaned_db['County'].isin(['King','San Juan','Island'])]\n",
    "cleanend_db_anlysis['TESLA_%'] = round(cleanend_db_anlysis['TESLA']/cleanend_db_anlysis['Electric Vehicle (EV) Total'],2)\n",
    "cleanend_db_anlysis['BMW_%'] = round(cleanend_db_anlysis['BMW']/cleanend_db_anlysis['Electric Vehicle (EV) Total'],2)\n",
    "cleanend_db_anlysis['CHEVROLET_%'] = round(cleanend_db_anlysis['CHEVROLET']/cleanend_db_anlysis['Electric Vehicle (EV) Total'],2)\n",
    "cleanend_db_anlysis['FORD_%'] = round(cleanend_db_anlysis['FORD']/cleanend_db_anlysis['Electric Vehicle (EV) Total'],2)\n",
    "cleanend_db_anlysis['NISSAN_%'] = round(cleanend_db_anlysis['NISSAN']/cleanend_db_anlysis['Electric Vehicle (EV) Total'],2)"
   ]
  },
  {
   "cell_type": "code",
   "execution_count": 41,
   "metadata": {},
   "outputs": [
    {
     "data": {
      "text/plain": [
       "<AxesSubplot: xlabel='County'>"
      ]
     },
     "execution_count": 41,
     "metadata": {},
     "output_type": "execute_result"
    },
    {
     "data": {
      "image/png": "[encoded data removed]",
      "text/plain": [
       "<Figure size 640x480 with 1 Axes>"
      ]
     },
     "metadata": {},
     "output_type": "display_data"
    }
   ],
   "source": [
    "#create a bar plot\n",
    "cleanend_final_final = cleanend_db_anlysis[['County','TESLA_%','BMW_%','CHEVROLET_%','FORD_%','NISSAN_%']]\n",
    "cleanend_final_final.plot(kind = 'bar', x = 'County')"
   ]
  },
  {
   "cell_type": "markdown",
   "metadata": {
    "id": "K5RgvMGUZoHn"
   },
   "source": [
    "*Answer to research question: Tesla accounts for the highest percentage of total BEV (Battery Electric Vehicles) in King and Island counties. However, in San Juan County, Tesla and Nissan have an equal percentage of BEV vehicles.\""
   ]
  },
  {
   "cell_type": "markdown",
   "metadata": {
    "id": "0ezWXXZVj-TP"
   },
   "source": [
    "### **5.2:** Reflection\n",
    "If I had more time, it would be interesting to identify which counties have the highest number of conventional (non-electric) vehicles. By doing this, we could understand which counties are not keeping pace with the transition to electric vehicles. Additionally, we could analyze the best-selling models for the top five carmakers, providing further insights into consumer preferences and market trends in these regions."
   ]
  }
 ],
 "metadata": {
  "colab": {
   "provenance": []
  },
  "kernelspec": {
   "display_name": "Python 3 (ipykernel)",
   "language": "python",
   "name": "python3"
  },
  "language_info": {
   "codemirror_mode": {
    "name": "ipython",
    "version": 3
   },
   "file_extension": ".py",
   "mimetype": "text/x-python",
   "name": "python",
   "nbconvert_exporter": "python",
   "pygments_lexer": "ipython3",
   "version": "3.10.10"
  }
 },
 "nbformat": 4,
 "nbformat_minor": 1
}
